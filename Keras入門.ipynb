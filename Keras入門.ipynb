{
 "cells": [
  {
   "cell_type": "markdown",
   "metadata": {},
   "source": [
    "# Keras\n",
    "公式: https://keras.io/ja/  \n",
    "入門に良さそうな記事  \n",
    "https://indico2.riken.jp/event/2492/attachments/4803/5587/Tanaka_Lecture.pdf   \n",
    "https://qiita.com/yampy/items/706d44417c433e68db0d  \n",
    "\n",
    "## 導入\n",
    "```\n",
    "$ pip install tensorflow keras\n",
    "```"
   ]
  },
  {
   "cell_type": "code",
   "execution_count": 1,
   "metadata": {},
   "outputs": [
    {
     "name": "stderr",
     "output_type": "stream",
     "text": [
      "Using TensorFlow backend.\n"
     ]
    },
    {
     "name": "stdout",
     "output_type": "stream",
     "text": [
      "WARNING:tensorflow:From /Users/komatsu/programing/machinelearning/keras/lib/python3.7/site-packages/tensorflow/python/framework/op_def_library.py:263: colocate_with (from tensorflow.python.framework.ops) is deprecated and will be removed in a future version.\n",
      "Instructions for updating:\n",
      "Colocations handled automatically by placer.\n",
      "_________________________________________________________________\n",
      "Layer (type)                 Output Shape              Param #   \n",
      "=================================================================\n",
      "dense_1 (Dense)              (None, 4)                 16        \n",
      "_________________________________________________________________\n",
      "activation_1 (Activation)    (None, 4)                 0         \n",
      "_________________________________________________________________\n",
      "dense_2 (Dense)              (None, 3)                 15        \n",
      "_________________________________________________________________\n",
      "activation_2 (Activation)    (None, 3)                 0         \n",
      "=================================================================\n",
      "Total params: 31\n",
      "Trainable params: 31\n",
      "Non-trainable params: 0\n",
      "_________________________________________________________________\n"
     ]
    }
   ],
   "source": [
    "import keras\n",
    "from keras.models import Sequential # モデルの型/大枠\n",
    "from keras.layers import Dense, Activation # 線形変換(全結合), 活性化関数\n",
    "\n",
    "Test_NN = Sequential() # 空のニューラルネット\n",
    "Test_NN.add(Dense(4, input_dim=3)) # 3入力 => 4出力 のNN\n",
    "Test_NN.add(Activation('sigmoid')) # 4出力 => sigmoid関数による活性化層(0~1)\n",
    "Test_NN.add(Dense(3)) # 入力数は前の層を参照．出力数のみ3と指定\n",
    "Test_NN.add(Activation('softmax')) # 出力にsoftmax関数を設定(確率化)\n",
    "\n",
    "Test_NN.summary() # 設定した構造を表示\n"
   ]
  },
  {
   "cell_type": "code",
   "execution_count": null,
   "metadata": {},
   "outputs": [],
   "source": [
    "Test_NN.compile(optimizer='adam', loss='categorical_crossentropy')\n"
   ]
  }
 ],
 "metadata": {
  "kernelspec": {
   "display_name": "Python 3",
   "language": "python",
   "name": "python3"
  },
  "language_info": {
   "codemirror_mode": {
    "name": "ipython",
    "version": 3
   },
   "file_extension": ".py",
   "mimetype": "text/x-python",
   "name": "python",
   "nbconvert_exporter": "python",
   "pygments_lexer": "ipython3",
   "version": "3.7.0"
  }
 },
 "nbformat": 4,
 "nbformat_minor": 2
}
