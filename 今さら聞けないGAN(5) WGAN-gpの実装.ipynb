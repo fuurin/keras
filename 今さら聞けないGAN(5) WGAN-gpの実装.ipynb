{
 "cells": [
  {
   "cell_type": "markdown",
   "metadata": {},
   "source": [
    "# 今さら聞けないGANシリーズ(5)\n",
    "\n",
    "https://qiita.com/triwave33/items/72c7fceea2c6e48c8c07  \n",
    "WGAN-gpの実装"
   ]
  },
  {
   "cell_type": "markdown",
   "metadata": {},
   "source": [
    "## モデル定義\n",
    "discriminator_with_own_lossモデルの実装  \n",
    "WGAN-gpでは，正解ラベルと予想結果を付き合わせる形式を用いない．  \n",
    "binary cross entropyなどではなく，損失関数を独自に定義する．  "
   ]
  },
  {
   "cell_type": "markdown",
   "metadata": {},
   "source": [
    "実装の参考  \n",
    "https://github.com/tjwei/GANotebooks/blob/master/wgan2-keras.ipynb"
   ]
  },
  {
   "cell_type": "code",
   "execution_count": null,
   "metadata": {},
   "outputs": [],
   "source": [
    "from gan import GAN\n",
    "\n",
    "class WGANGP(GAN):\n",
    "    def build_discriminator_with_own_loss(self):\n",
    "        # 1. モデルの作成\n",
    "        \n",
    "        # generatorの入力\n",
    "        z = Input(shape=(self.z_dim,))\n",
    "        \n",
    "        # discriminatorの入力\n",
    "        f_img = self.generator(g_input)\n",
    "        img_shape = (self.img_rows, self.img_cols, self.channels)\n",
    "        r_img = Input(shape(img_shape))\n",
    "        \n",
    "        # 生成データと偽物のデータの比率を決める値\n",
    "        e_input = K.placeholder(shape=(None, 1, 1, 1))\n",
    "        \n",
    "        a_img = Input(shape=(img_shape), \\\n",
    "                     tensor=e_input * img_input + (1-e_input) * g_output)\n",
    "        \n",
    "        # discriminatorの出力\n",
    "        f_out = self.discriminator(f_img)\n",
    "        r_out = self.discriminator(r_img)\n",
    "        a_out = self.discriminator(a_img)\n",
    "        \n",
    "        \n",
    "        \n",
    "        # 2. 損失関数の作成\n",
    "        \n",
    "        # original critic loss\n",
    "        loss_real = K.mean(r_out)\n",
    "        loss_fake = K.mean(f_out)\n",
    "        \n",
    "        # gradient penalty\n",
    "        grad_mixed = K.gradients(a_out, [a_img])[0]\n",
    "        norm_grad_mixed = K.sqrt(K.sum(K.square(grad_mixed), axis=[1,2,3]))\n",
    "        grad_penalty = K.mean(K.square(norm_grad_mixed - 1))\n",
    "        \n",
    "        # 最終的な損失関数\n",
    "        loss = loss_fake - loss_real + GRADIENT_PENALTY_WEIGHT * grad_penalty\n",
    "        \n",
    "        \n",
    "        \n",
    "        # 3. optimizer をインスタンス化\n",
    "        training_updates = Adam(lr=1e-4, beta_1=0.5, beta_2=0.9)\\\n",
    "            .get_updates(self.discriminator.trainable_weights, [], loss)\n",
    "        \n",
    "        \n",
    "        \n",
    "        # 4. 入出力とoptimizerをfunction化\n",
    "        d_train = K.function([img_input, g_input, e_input], \\\n",
    "                            [loss_real, loss_fake], \\\n",
    "                            training_updates)\n",
    "        \n",
    "        return d_trainb\n",
    "    "
   ]
  }
 ],
 "metadata": {
  "kernelspec": {
   "display_name": "Python 3",
   "language": "python",
   "name": "python3"
  },
  "language_info": {
   "codemirror_mode": {
    "name": "ipython",
    "version": 3
   },
   "file_extension": ".py",
   "mimetype": "text/x-python",
   "name": "python",
   "nbconvert_exporter": "python",
   "pygments_lexer": "ipython3",
   "version": "3.7.0"
  }
 },
 "nbformat": 4,
 "nbformat_minor": 2
}
